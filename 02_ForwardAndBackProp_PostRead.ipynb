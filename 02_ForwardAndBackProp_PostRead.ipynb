{
  "nbformat": 4,
  "nbformat_minor": 0,
  "metadata": {
    "colab": {
      "provenance": [],
      "include_colab_link": true
    },
    "kernelspec": {
      "name": "python3",
      "display_name": "Python 3"
    },
    "language_info": {
      "name": "python"
    }
  },
  "cells": [
    {
      "cell_type": "markdown",
      "metadata": {
        "id": "view-in-github",
        "colab_type": "text"
      },
      "source": [
        "<a href=\"https://colab.research.google.com/github/Vikram310/Courses/blob/main/02_ForwardAndBackProp_PostRead.ipynb\" target=\"_parent\"><img src=\"https://colab.research.google.com/assets/colab-badge.svg\" alt=\"Open In Colab\"/></a>"
      ]
    },
    {
      "cell_type": "markdown",
      "source": [
        "## Content\n",
        "\n",
        "- Derivative using Computational Graph\n"
      ],
      "metadata": {
        "id": "TIXGaVyEmoQj"
      }
    },
    {
      "cell_type": "markdown",
      "source": [
        "## Derivative using Computational Graph"
      ],
      "metadata": {
        "id": "wNF_GNGrm5tW"
      }
    },
    {
      "cell_type": "markdown",
      "source": [
        "For this, let's start with a toy example"
      ],
      "metadata": {
        "id": "46flLo2-hp14"
      }
    },
    {
      "cell_type": "markdown",
      "source": [
        "Suppose we have an expression\n",
        "\n",
        "$g = (x + y)*z$\n",
        "\n",
        "Let's represent it using computational graph:"
      ],
      "metadata": {
        "id": "xLGY3PPyDiIl"
      }
    },
    {
      "cell_type": "markdown",
      "source": [
        "<center><img src='https://drive.google.com/uc?id=131MhRGijeBOK-Q8SXBoe_ooZrOnhzGzg' width=\"800\"></center>\n",
        "\n"
      ],
      "metadata": {
        "id": "QQvCbkTYhqFq"
      }
    },
    {
      "cell_type": "markdown",
      "source": [
        "#### Forward Pass\n",
        "\n",
        "#### Question: What will be the value of g ?\n",
        "\n",
        "Assume the given values are\n",
        "- x = 2\n",
        "- y = 3\n",
        "- z = 5\n",
        "\n",
        "Ans: We'll evaulate the expression using the given values\n",
        "\n",
        "=> $(x + y)*z =>(2 + 3)*5$\n",
        "\n",
        "=> 5*5\n",
        "\n",
        "=> 25\n",
        "\n",
        "This process of flow of inputs from left to right to output is called **Forward pass** or **Forward Propagation**\n"
      ],
      "metadata": {
        "id": "QVS8CS1hEy7i"
      }
    },
    {
      "cell_type": "markdown",
      "source": [
        "#### Backpropagation"
      ],
      "metadata": {
        "id": "PWC5Qu0gFex4"
      }
    },
    {
      "cell_type": "markdown",
      "source": [
        "We want to find the derivate of $g$ w.r.t $x$ and $y$ i.e. $\\frac{∂g}{∂x}$ and $\\frac{∂g}{∂y}$\n",
        "\n",
        "#### How will we find the derivates ?\n",
        "\n",
        "\n",
        "Firstly, for simplicity, let's replace addition and multiplication with function placeholders\n",
        "\n"
      ],
      "metadata": {
        "id": "WlWu02cNFj6x"
      }
    },
    {
      "cell_type": "markdown",
      "source": [
        "<center><img src='https://drive.google.com/uc?id=16qP1XJpJxBRCzWJeimcD1baTHqN6P9d8' width=\"800\"></center>\n",
        "\n"
      ],
      "metadata": {
        "id": "75737krLGYXT"
      }
    },
    {
      "cell_type": "markdown",
      "source": [
        "#### Calculating $\\frac{∂g}{∂x}$"
      ],
      "metadata": {
        "id": "B79FGIV8GlHg"
      }
    },
    {
      "cell_type": "markdown",
      "source": [
        "1. Let's start by tracing the path from x to g on computational graph"
      ],
      "metadata": {
        "id": "E7EYeO4cGX03"
      }
    },
    {
      "cell_type": "markdown",
      "source": [
        "<center><img src='https://drive.google.com/uc?id=1rGl1Of1S8pGN111AOW26xDB8t3u9OxSz' width=\"600\"></center>\n",
        "\n"
      ],
      "metadata": {
        "id": "8jpj1kUDI5og"
      }
    },
    {
      "cell_type": "markdown",
      "source": [
        "2. Next, We check how many function are we encountering in this path\n",
        "\n",
        "\n",
        "Notice that we w'll be encountering function $f$ and $g$\n",
        "\n",
        "- Going backwards,\n",
        "    - we take the derivative of function with next immediate function\n",
        "\n",
        "For example:\n",
        "- After function $g$, we encounter $f$\n",
        "    - so, we take derivative of g w.r.t f i.e. $\\frac{∂g}{∂f}$\n",
        "\n",
        "We do so till we encounter our variable.\n",
        "- In this case, we'll encounter x.\n",
        "    - So lastly, we'll take derivative w.r.t x i.e. $\\frac{∂f}{∂x}$\n",
        "\n"
      ],
      "metadata": {
        "id": "NHXOh87JJRY4"
      }
    },
    {
      "cell_type": "markdown",
      "source": [
        "<center><img src='https://drive.google.com/uc?id=1Kz-5D3tVceioWvTWhqjpWAzWHF9KvEUn' width=\"600\"></center>\n",
        "\n",
        "\n"
      ],
      "metadata": {
        "id": "msz9s9o8LVM6"
      }
    },
    {
      "cell_type": "markdown",
      "source": [
        "Ultimately, we multiply all the derivatives together to get the final derivative of g w.r.t x\n",
        "\n",
        "- $\\frac{∂g}{∂x}$ = $\\frac{∂g}{∂f} \\frac{∂f}{∂x}$\n",
        "\n",
        "- $\\frac{∂g}{∂x}$ = z * 1 = $z$"
      ],
      "metadata": {
        "id": "NcZI25saMGxj"
      }
    },
    {
      "cell_type": "markdown",
      "source": [
        "<center><img src='https://drive.google.com/uc?id=1doC1gyKIAEA8Jm7ia_EEoWMv1mgmopNy' width=\"600\"></center>\n",
        "\n",
        "\n",
        "\n"
      ],
      "metadata": {
        "id": "dggGIMVmMMep"
      }
    },
    {
      "cell_type": "markdown",
      "source": [
        "Similarly, we find the derivative of g w.r.t y"
      ],
      "metadata": {
        "id": "oXr5j0voNwoD"
      }
    },
    {
      "cell_type": "markdown",
      "source": [
        "<center><img src='https://drive.google.com/uc?id=1ofiaFTMdXJJ5s5XEugzqsWRETkAn6wcg' width=\"600\"></center>\n",
        "\n",
        "\n"
      ],
      "metadata": {
        "id": "qTqLlOAuNznh"
      }
    },
    {
      "cell_type": "markdown",
      "source": [
        "Now, let's complicate this example a bit"
      ],
      "metadata": {
        "id": "bsETe3ODPXRS"
      }
    },
    {
      "cell_type": "markdown",
      "source": [
        "<center><img src='https://drive.google.com/uc?id=15rsT6w0yCMQ_Y1xPEIKVk5GfTpoJnzwf' width=\"600\"></center>\n",
        "\n"
      ],
      "metadata": {
        "id": "qsq907ORNNYV"
      }
    },
    {
      "cell_type": "markdown",
      "source": [
        "In the above computational graph, we want to find $\\frac{∂o}{∂w}$"
      ],
      "metadata": {
        "id": "7t_k856fNTtv"
      }
    },
    {
      "cell_type": "markdown",
      "source": [
        "#### Calculating $\\frac{∂o}{∂w}$"
      ],
      "metadata": {
        "id": "IBrZScFaNh-f"
      }
    },
    {
      "cell_type": "markdown",
      "source": [
        "First, track the path from o to w"
      ],
      "metadata": {
        "id": "90ZZOIF1Np1B"
      }
    },
    {
      "cell_type": "markdown",
      "source": [
        "<center><img src='https://drive.google.com/uc?id=1gO7qgeWp8witSEtu0MMM7rCwZl48PsgI' width=\"700\"></center>\n",
        "\n"
      ],
      "metadata": {
        "id": "J6cT81ujVm9g"
      }
    },
    {
      "cell_type": "markdown",
      "source": [
        "Notice that there are two paths from output $o$ to Input $w$.\n",
        "\n",
        "In this case, we'll first find the derivative for both paths and add them up."
      ],
      "metadata": {
        "id": "6KesMzAvVsYY"
      }
    },
    {
      "cell_type": "markdown",
      "source": [
        "#### Path -1"
      ],
      "metadata": {
        "id": "7wZa3bUIZvsA"
      }
    },
    {
      "cell_type": "markdown",
      "source": [
        "While following path-1,\n",
        "- we enounter $k(p,q)$\n",
        "- then function $p$ and  $y$\n",
        "\n",
        "But, $o = k(p,q)$\n",
        "- even if we take derivative of o w.r.t k, it'll be 1\n",
        "\n",
        "So, the derivative of o w.r.t w following path-1 will be :\n",
        "\n",
        "Path - 1 = $\\frac{∂o}{∂p}.\\frac{∂p}{∂y}.\\frac{∂y}{∂w}$"
      ],
      "metadata": {
        "id": "vAd5mgYoZ7N2"
      }
    },
    {
      "cell_type": "markdown",
      "source": [
        "<center><img src='https://drive.google.com/uc?id=1ASQAmPPp49K1OoH7S2-mWwMfOWmAPsWc' width=\"700\"></center>\n"
      ],
      "metadata": {
        "id": "5bamKikPZxvl"
      }
    },
    {
      "cell_type": "markdown",
      "source": [
        "#### Path-2"
      ],
      "metadata": {
        "id": "F5JLTsHca5Es"
      }
    },
    {
      "cell_type": "markdown",
      "source": [
        "<center><img src='https://drive.google.com/uc?id=1OFzrxIolueFOchqMwQMC1v18QZUj23iF' width=\"700\"></center>\n",
        "\n"
      ],
      "metadata": {
        "id": "9Aosd0rJbBLH"
      }
    },
    {
      "cell_type": "markdown",
      "source": [
        "Path - 2 = $\\frac{∂o}{∂q}.\\frac{∂q}{∂z}.\\frac{∂z}{∂w}$\n",
        "\n",
        "Now, in order to find $\\frac{∂o}{∂w}$, we combine the derivate from path-1 and path-2\n",
        "\n",
        "$\\frac{∂o}{∂w}$ =  $\\frac{∂o}{∂p}.\\frac{∂p}{∂y}.\\frac{∂y}{∂w}$ + $\\frac{∂o}{∂q}.\\frac{∂q}{∂z}.\\frac{∂z}{∂w}$\n"
      ],
      "metadata": {
        "id": "zfLuekbobR5N"
      }
    }
  ]
}